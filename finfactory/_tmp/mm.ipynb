{
 "cells": [
  {
   "cell_type": "code",
   "execution_count": 1,
   "id": "ace71db3",
   "metadata": {},
   "outputs": [],
   "source": [
    "from dramkit import plot_series\n",
    "from finfactory.load_his_data import load_index_joinquant\n",
    "from finfactory.fintools.utils_chn import merge_minute_candle\n",
    "from finfactory.finplot.plot_candle import plot_candle\n",
    "import finfactory.fintools.fintools as fintools"
   ]
  },
  {
   "cell_type": "code",
   "execution_count": 2,
   "id": "ed409593",
   "metadata": {},
   "outputs": [
    {
     "name": "stdout",
     "output_type": "stream",
     "text": [
      "function `merge_minute_candle` run time: 52.380399s.\n"
     ]
    }
   ],
   "source": [
    "df1 = load_index_joinquant('000300.XSHG', '1min')\n",
    "# df5 = merge_minute_candle(df1, 5, ['volume', 'money'])\n",
    "# df15 = merge_minute_candle(df1, 15, ['volume', 'money'])\n",
    "df30 = merge_minute_candle(df1, 30, ['volume', 'money'])"
   ]
  },
  {
   "cell_type": "code",
   "execution_count": 3,
   "id": "e8264216",
   "metadata": {},
   "outputs": [
    {
     "name": "stdout",
     "output_type": "stream",
     "text": [
      "df30.shape (33536, 7)\n"
     ]
    }
   ],
   "source": [
    "# print('df1.shape', df1.shape)\n",
    "# print('df5.shape', df5.shape)\n",
    "# print('df15.shape', df15.shape)\n",
    "print('df30.shape', df30.shape)"
   ]
  },
  {
   "cell_type": "code",
   "execution_count": 4,
   "id": "8ba6d062",
   "metadata": {},
   "outputs": [],
   "source": [
    "df = df30.set_index('time')"
   ]
  },
  {
   "cell_type": "code",
   "execution_count": 6,
   "id": "67c7af84",
   "metadata": {},
   "outputs": [
    {
     "data": {
      "text/html": [
       "<div>\n",
       "<style scoped>\n",
       "    .dataframe tbody tr th:only-of-type {\n",
       "        vertical-align: middle;\n",
       "    }\n",
       "\n",
       "    .dataframe tbody tr th {\n",
       "        vertical-align: top;\n",
       "    }\n",
       "\n",
       "    .dataframe thead th {\n",
       "        text-align: right;\n",
       "    }\n",
       "</style>\n",
       "<table border=\"1\" class=\"dataframe\">\n",
       "  <thead>\n",
       "    <tr style=\"text-align: right;\">\n",
       "      <th></th>\n",
       "      <th>open</th>\n",
       "      <th>close</th>\n",
       "      <th>high</th>\n",
       "      <th>low</th>\n",
       "      <th>volume</th>\n",
       "      <th>money</th>\n",
       "      <th>ma_slow</th>\n",
       "      <th>ma_fast</th>\n",
       "      <th>f</th>\n",
       "      <th>turn</th>\n",
       "      <th>mid</th>\n",
       "      <th>std</th>\n",
       "      <th>bbw</th>\n",
       "    </tr>\n",
       "    <tr>\n",
       "      <th>time</th>\n",
       "      <th></th>\n",
       "      <th></th>\n",
       "      <th></th>\n",
       "      <th></th>\n",
       "      <th></th>\n",
       "      <th></th>\n",
       "      <th></th>\n",
       "      <th></th>\n",
       "      <th></th>\n",
       "      <th></th>\n",
       "      <th></th>\n",
       "      <th></th>\n",
       "      <th></th>\n",
       "    </tr>\n",
       "  </thead>\n",
       "  <tbody>\n",
       "    <tr>\n",
       "      <th>2022-07-06 11:30:00</th>\n",
       "      <td>4438.4831</td>\n",
       "      <td>4432.9146</td>\n",
       "      <td>4447.2784</td>\n",
       "      <td>4428.8699</td>\n",
       "      <td>1.171250e+09</td>\n",
       "      <td>2.557698e+10</td>\n",
       "      <td>4469.742677</td>\n",
       "      <td>4469.268687</td>\n",
       "      <td>-0.000106</td>\n",
       "      <td>0</td>\n",
       "      <td>4470.162460</td>\n",
       "      <td>18.339980</td>\n",
       "      <td>0.008264</td>\n",
       "    </tr>\n",
       "    <tr>\n",
       "      <th>2022-07-06 13:30:00</th>\n",
       "      <td>4432.8091</td>\n",
       "      <td>4425.1725</td>\n",
       "      <td>4438.1614</td>\n",
       "      <td>4418.7301</td>\n",
       "      <td>1.252349e+09</td>\n",
       "      <td>2.959036e+10</td>\n",
       "      <td>4467.554760</td>\n",
       "      <td>4465.827520</td>\n",
       "      <td>-0.000387</td>\n",
       "      <td>0</td>\n",
       "      <td>4469.441915</td>\n",
       "      <td>19.533070</td>\n",
       "      <td>0.008813</td>\n",
       "    </tr>\n",
       "    <tr>\n",
       "      <th>2022-07-06 14:00:00</th>\n",
       "      <td>4425.0324</td>\n",
       "      <td>4410.0300</td>\n",
       "      <td>4432.7030</td>\n",
       "      <td>4408.7620</td>\n",
       "      <td>1.301304e+09</td>\n",
       "      <td>2.866693e+10</td>\n",
       "      <td>4465.055427</td>\n",
       "      <td>4461.038853</td>\n",
       "      <td>-0.000900</td>\n",
       "      <td>0</td>\n",
       "      <td>4467.212035</td>\n",
       "      <td>21.911302</td>\n",
       "      <td>0.009903</td>\n",
       "    </tr>\n",
       "    <tr>\n",
       "      <th>2022-07-06 14:30:00</th>\n",
       "      <td>4409.7283</td>\n",
       "      <td>4403.6930</td>\n",
       "      <td>4414.1787</td>\n",
       "      <td>4393.4165</td>\n",
       "      <td>1.832245e+09</td>\n",
       "      <td>3.801872e+10</td>\n",
       "      <td>4463.167193</td>\n",
       "      <td>4454.883053</td>\n",
       "      <td>-0.001856</td>\n",
       "      <td>0</td>\n",
       "      <td>4464.633950</td>\n",
       "      <td>25.400349</td>\n",
       "      <td>0.011520</td>\n",
       "    </tr>\n",
       "    <tr>\n",
       "      <th>2022-07-06 15:00:00</th>\n",
       "      <td>4404.8058</td>\n",
       "      <td>4423.9698</td>\n",
       "      <td>4425.4342</td>\n",
       "      <td>4400.1983</td>\n",
       "      <td>1.695264e+09</td>\n",
       "      <td>3.838664e+10</td>\n",
       "      <td>4461.441187</td>\n",
       "      <td>4449.979707</td>\n",
       "      <td>-0.002569</td>\n",
       "      <td>0</td>\n",
       "      <td>4461.881240</td>\n",
       "      <td>28.712225</td>\n",
       "      <td>0.013037</td>\n",
       "    </tr>\n",
       "  </tbody>\n",
       "</table>\n",
       "</div>"
      ],
      "text/plain": [
       "                          open      close       high        low        volume  \\\n",
       "time                                                                            \n",
       "2022-07-06 11:30:00  4438.4831  4432.9146  4447.2784  4428.8699  1.171250e+09   \n",
       "2022-07-06 13:30:00  4432.8091  4425.1725  4438.1614  4418.7301  1.252349e+09   \n",
       "2022-07-06 14:00:00  4425.0324  4410.0300  4432.7030  4408.7620  1.301304e+09   \n",
       "2022-07-06 14:30:00  4409.7283  4403.6930  4414.1787  4393.4165  1.832245e+09   \n",
       "2022-07-06 15:00:00  4404.8058  4423.9698  4425.4342  4400.1983  1.695264e+09   \n",
       "\n",
       "                            money      ma_slow      ma_fast         f  turn  \\\n",
       "time                                                                          \n",
       "2022-07-06 11:30:00  2.557698e+10  4469.742677  4469.268687 -0.000106     0   \n",
       "2022-07-06 13:30:00  2.959036e+10  4467.554760  4465.827520 -0.000387     0   \n",
       "2022-07-06 14:00:00  2.866693e+10  4465.055427  4461.038853 -0.000900     0   \n",
       "2022-07-06 14:30:00  3.801872e+10  4463.167193  4454.883053 -0.001856     0   \n",
       "2022-07-06 15:00:00  3.838664e+10  4461.441187  4449.979707 -0.002569     0   \n",
       "\n",
       "                             mid        std       bbw  \n",
       "time                                                   \n",
       "2022-07-06 11:30:00  4470.162460  18.339980  0.008264  \n",
       "2022-07-06 13:30:00  4469.441915  19.533070  0.008813  \n",
       "2022-07-06 14:00:00  4467.212035  21.911302  0.009903  \n",
       "2022-07-06 14:30:00  4464.633950  25.400349  0.011520  \n",
       "2022-07-06 15:00:00  4461.881240  28.712225  0.013037  "
      ]
     },
     "execution_count": 6,
     "metadata": {},
     "output_type": "execute_result"
    }
   ],
   "source": [
    "df['ma_slow'] = df['close'].rolling(30).mean()\n",
    "df['ma_fast'] = df['close'].rolling(15).mean()\n",
    "df['f'] = df['ma_fast'] / df['ma_slow'] - 1\n",
    "\n",
    "df['turn'] = fintools.get_turn_point(df['f'])\n",
    "df['bbw'] = fintools.bbw(df)\n",
    "\n",
    "df.tail()"
   ]
  },
  {
   "cell_type": "code",
   "execution_count": 7,
   "id": "38e6be50",
   "metadata": {
    "scrolled": true
   },
   "outputs": [
    {
     "name": "stdout",
     "output_type": "stream",
     "text": [
      "1 0.022258338928800907\n",
      "2 0.02203265059361272\n",
      "3 0.023311992438783933\n",
      "4 0.02073756303829168\n",
      "5 0.022147057177292533\n",
      "6 0.02167474715519133\n",
      "7 0.023437163095345537\n",
      "8 0.025444958159354002\n",
      "9 0.028708088691901855\n",
      "10 0.032471558478476915\n",
      "11 0.03654895904649579\n",
      "12 0.04018164856933398\n",
      "13 0.04331603527858262\n",
      "14 0.0457913271647291\n",
      "15 0.048341940107474404\n",
      "16 0.05057875100328019\n",
      "17 0.05214222259504705\n",
      "18 0.05282112285411865\n",
      "19 0.053796140478459695\n",
      "20 0.05490234442122523\n",
      "21 0.055511893056269634\n",
      "22 0.05551514674000466\n",
      "23 0.055389279543794155\n",
      "24 0.054924237637909636\n",
      "25 0.054301609747779235\n",
      "26 0.05307999739935549\n",
      "27 0.05121817053548178\n",
      "28 0.049053998697060286\n",
      "29 0.046363752104132905\n",
      "30 0.043693377243343594\n",
      "31 0.041221899008116916\n",
      "32 0.03865206161503569\n",
      "33 0.03628446980546884\n",
      "34 0.033900942364546285\n",
      "35 0.031711823605308366\n",
      "36 0.02980237723090785\n",
      "37 0.028266603653370123\n",
      "38 0.027225006568833254\n",
      "39 0.026541498027967996\n",
      "40 0.026236539205594968\n",
      "41 0.02618449582946299\n",
      "42 0.02658088557797593\n",
      "43 0.027116538021059754\n",
      "44 0.02773650217683272\n",
      "45 0.02832989738450388\n",
      "46 0.02892039283630754\n",
      "47 0.029500133797523788\n",
      "48 0.030031003853033474\n",
      "49 0.030437660460924065\n",
      "50 0.031045547918950395\n",
      "51 0.03175802370548655\n",
      "52 0.03268238736413536\n",
      "53 0.03354490191347948\n",
      "54 0.0344670640407141\n",
      "55 0.035768457542104184\n",
      "56 0.037224877315055194\n",
      "57 0.038689769009687985\n",
      "58 0.04023226193399737\n",
      "59 0.04194375496290098\n",
      "60 0.04369951265186464\n",
      "61 0.04533561804221467\n",
      "62 0.04704884631343909\n",
      "63 0.04889629479645573\n",
      "64 0.05079626977241387\n",
      "65 0.05251766724237284\n",
      "66 0.05422712849828904\n",
      "67 0.0559037745403265\n",
      "68 0.057474459376676654\n",
      "69 0.05893018299956091\n",
      "70 0.06044254517966775\n",
      "71 0.06184618743808674\n",
      "72 0.06316192567893435\n",
      "73 0.06421536318844856\n",
      "74 0.06518333988163029\n",
      "75 0.06608710166214771\n",
      "76 0.06697288529209162\n",
      "77 0.06787808099319219\n",
      "78 0.06871576946830882\n",
      "79 0.06949678576360221\n",
      "80 0.07022466474188355\n",
      "81 0.07103544667280483\n",
      "82 0.07175099532517568\n",
      "83 0.07222340677905621\n",
      "84 0.07261151068652548\n",
      "85 0.07289952996587072\n",
      "86 0.07326374646437356\n",
      "87 0.07363537277609142\n",
      "88 0.07392545967682712\n",
      "89 0.07426984865782447\n",
      "90 0.07458942649294424\n",
      "91 0.07482314915345967\n",
      "92 0.07515100628272585\n",
      "93 0.07544788282046577\n",
      "94 0.0757772422868679\n",
      "95 0.07604062897043655\n",
      "96 0.07615990178398094\n",
      "97 0.07637296108230565\n",
      "98 0.0763817299825537\n",
      "99 0.0763900034498703\n",
      "100 0.07638359952010584\n"
     ]
    }
   ],
   "source": [
    "for k in range(1, 101):\n",
    "    print(k, fintools.cal_ic(df, 'f', lag=k))"
   ]
  },
  {
   "cell_type": "code",
   "execution_count": 8,
   "id": "a8bf491d",
   "metadata": {},
   "outputs": [
    {
     "name": "stdout",
     "output_type": "stream",
     "text": [
      "0.014871917061717733 -0.015242310422746519\n"
     ]
    }
   ],
   "source": [
    "f_up = df['f'].quantile(0.95)\n",
    "f_low = df['f'].quantile(0.05)\n",
    "print(f_up, f_low)"
   ]
  },
  {
   "cell_type": "code",
   "execution_count": 17,
   "id": "db71f806",
   "metadata": {},
   "outputs": [],
   "source": [
    "df['atr'], _ = fintools.atr(df)\n",
    "df['atr_low'] = df['close'] - 0.2*df['atr']\n",
    "df['atr_high'] = df['close'] + 0.2*df['atr']"
   ]
  },
  {
   "cell_type": "code",
   "execution_count": 21,
   "id": "e61535bf",
   "metadata": {
    "scrolled": false
   },
   "outputs": [
    {
     "data": {
      "image/png": "[encoded data removed]",
      "text/plain": [
       "<Figure size 792x504 with 1 Axes>"
      ]
     },
     "metadata": {
      "needs_background": "light"
     },
     "output_type": "display_data"
    }
   ],
   "source": [
    "N = 10\n",
    "plot_series(df.iloc[-N:, :],\n",
    "            cols_styl_up_left={\n",
    "                'close': ('-k', None),\n",
    "                'atr_low': ('-r', None),\n",
    "                'atr_high': ('-y', None)\n",
    "#                 'ma_fast': ('-r', None),\n",
    "#                 'ma_slow': ('-y', None)\n",
    "            },\n",
    "#             cols_styl_up_right={'f': ('-b', None), 'bbw': ('-g', None)},\n",
    "#             cols_to_label_info={'close': [['turn', (-1, 1), ('r^', 'gv'), ('low', 'high')]]},\n",
    "#             xparls_info={'f': [(0,), (f_up,), (f_low,)]},\n",
    "            n_xticks=6)"
   ]
  },
  {
   "cell_type": "code",
   "execution_count": null,
   "id": "b13d3d2c",
   "metadata": {},
   "outputs": [],
   "source": []
  }
 ],
 "metadata": {
  "kernelspec": {
   "display_name": "Python 3",
   "language": "python",
   "name": "python3"
  }
 },
 "nbformat": 4,
 "nbformat_minor": 5
}
